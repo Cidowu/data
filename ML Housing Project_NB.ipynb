{
 "cells": [
  {
   "cell_type": "code",
   "execution_count": 69,
   "id": "13e63904",
   "metadata": {},
   "outputs": [],
   "source": [
    "import pandas as pd\n",
    "import matplotlib.pyplot as plt\n",
    "\n",
    "import plotly.express as px\n",
    "from glob import glob\n",
    "import seaborn as sns\n",
    "from category_encoders import OneHotEncoder\n",
    "\n",
    "from ipywidgets import Dropdown, FloatSlider, IntSlider, interact\n",
    "from sklearn.model_selection import train_test_split\n",
    "from sklearn.impute import SimpleImputer\n",
    "from sklearn.linear_model import LinearRegression, Ridge\n",
    "from sklearn.metrics import mean_absolute_error\n",
    "from sklearn.pipeline import make_pipeline\n"
   ]
  },
  {
   "cell_type": "code",
   "execution_count": 53,
   "id": "5c2af4b8",
   "metadata": {},
   "outputs": [],
   "source": [
    "#import data\n",
    "hous = 'C:/Users/NNAMDI IDOWU/Desktop/UDACITY/Predictive Analytics/GIT/MACHINE LEARNING/archive/housing.csv'\n"
   ]
  },
  {
   "cell_type": "code",
   "execution_count": 76,
   "id": "9f47dbd6",
   "metadata": {},
   "outputs": [],
   "source": [
    "#define wrangle function\n",
    "\n",
    "def wrangle_nb(path):\n",
    "    \n",
    "    #read csv\n",
    "    df = pd.read_csv(path)\n",
    "    \n",
    "    #create a subset where ocean_proximity contains \"NEAR BAY\"\n",
    "    mask_nb = df[\"ocean_proximity\"].str.contains(\"NEAR BAY\")\n",
    "    df = df[mask_nb]\n",
    "    \n",
    "    #drop multicollinear features\n",
    "    df.drop(columns=[\"total_bedrooms\", \"population\",], inplace = True)\n",
    "    \n",
    "    \n",
    "    \n",
    "    return df"
   ]
  },
  {
   "cell_type": "code",
   "execution_count": 77,
   "id": "a53d69c7",
   "metadata": {},
   "outputs": [],
   "source": [
    "df_nb = wrangle_nb(hous)"
   ]
  },
  {
   "cell_type": "code",
   "execution_count": 82,
   "id": "7c3605eb",
   "metadata": {},
   "outputs": [],
   "source": [
    "#visualize the distribution of the houses in terms of age\n",
    "\n",
    "\"\"\"(fig = px.scatter_mapbox(\n",
    "    df,\n",
    "    lat = \"latitude\",\n",
    "    lon = \"longitude\",\n",
    "    width = 800,\n",
    "    height = 800,\n",
    "    color = \"housing_median_age\",\n",
    "    hover_data = [\"housing_median_age\"]\n",
    ");\n",
    "\n",
    "fig.update_layout(mapbox_style = \"open-street-map\")\n",
    "\n",
    "fig.show()) \n",
    "\n",
    "\"\"\";"
   ]
  },
  {
   "cell_type": "code",
   "execution_count": 81,
   "id": "313400af",
   "metadata": {},
   "outputs": [],
   "source": [
    "#visualize the distribution of the houses in terms of value\n",
    "\n",
    "\"\"\"fig = px.scatter_mapbox(\n",
    "    df,\n",
    "    lat = \"latitude\",\n",
    "    lon = \"longitude\",\n",
    "    width = 800,\n",
    "    height = 800,\n",
    "    color = \"median_house_value\",\n",
    "    hover_data = [\"median_house_value\"]\n",
    ");\n",
    "\n",
    "fig.update_layout(mapbox_style = \"open-street-map\")\n",
    "\n",
    "fig.show()\n",
    "\n",
    "\"\"\";"
   ]
  },
  {
   "cell_type": "code",
   "execution_count": 83,
   "id": "cda2a743",
   "metadata": {},
   "outputs": [
    {
     "data": {
      "text/html": [
       "<div>\n",
       "<style scoped>\n",
       "    .dataframe tbody tr th:only-of-type {\n",
       "        vertical-align: middle;\n",
       "    }\n",
       "\n",
       "    .dataframe tbody tr th {\n",
       "        vertical-align: top;\n",
       "    }\n",
       "\n",
       "    .dataframe thead th {\n",
       "        text-align: right;\n",
       "    }\n",
       "</style>\n",
       "<table border=\"1\" class=\"dataframe\">\n",
       "  <thead>\n",
       "    <tr style=\"text-align: right;\">\n",
       "      <th></th>\n",
       "      <th>longitude</th>\n",
       "      <th>latitude</th>\n",
       "      <th>housing_median_age</th>\n",
       "      <th>total_rooms</th>\n",
       "      <th>households</th>\n",
       "      <th>median_income</th>\n",
       "      <th>median_house_value</th>\n",
       "      <th>ocean_proximity</th>\n",
       "    </tr>\n",
       "  </thead>\n",
       "  <tbody>\n",
       "    <tr>\n",
       "      <th>0</th>\n",
       "      <td>-122.23</td>\n",
       "      <td>37.88</td>\n",
       "      <td>41.0</td>\n",
       "      <td>880.0</td>\n",
       "      <td>126.0</td>\n",
       "      <td>8.3252</td>\n",
       "      <td>452600.0</td>\n",
       "      <td>NEAR BAY</td>\n",
       "    </tr>\n",
       "    <tr>\n",
       "      <th>1</th>\n",
       "      <td>-122.22</td>\n",
       "      <td>37.86</td>\n",
       "      <td>21.0</td>\n",
       "      <td>7099.0</td>\n",
       "      <td>1138.0</td>\n",
       "      <td>8.3014</td>\n",
       "      <td>358500.0</td>\n",
       "      <td>NEAR BAY</td>\n",
       "    </tr>\n",
       "    <tr>\n",
       "      <th>2</th>\n",
       "      <td>-122.24</td>\n",
       "      <td>37.85</td>\n",
       "      <td>52.0</td>\n",
       "      <td>1467.0</td>\n",
       "      <td>177.0</td>\n",
       "      <td>7.2574</td>\n",
       "      <td>352100.0</td>\n",
       "      <td>NEAR BAY</td>\n",
       "    </tr>\n",
       "    <tr>\n",
       "      <th>3</th>\n",
       "      <td>-122.25</td>\n",
       "      <td>37.85</td>\n",
       "      <td>52.0</td>\n",
       "      <td>1274.0</td>\n",
       "      <td>219.0</td>\n",
       "      <td>5.6431</td>\n",
       "      <td>341300.0</td>\n",
       "      <td>NEAR BAY</td>\n",
       "    </tr>\n",
       "    <tr>\n",
       "      <th>4</th>\n",
       "      <td>-122.25</td>\n",
       "      <td>37.85</td>\n",
       "      <td>52.0</td>\n",
       "      <td>1627.0</td>\n",
       "      <td>259.0</td>\n",
       "      <td>3.8462</td>\n",
       "      <td>342200.0</td>\n",
       "      <td>NEAR BAY</td>\n",
       "    </tr>\n",
       "  </tbody>\n",
       "</table>\n",
       "</div>"
      ],
      "text/plain": [
       "   longitude  latitude  housing_median_age  total_rooms  households  \\\n",
       "0    -122.23     37.88                41.0        880.0       126.0   \n",
       "1    -122.22     37.86                21.0       7099.0      1138.0   \n",
       "2    -122.24     37.85                52.0       1467.0       177.0   \n",
       "3    -122.25     37.85                52.0       1274.0       219.0   \n",
       "4    -122.25     37.85                52.0       1627.0       259.0   \n",
       "\n",
       "   median_income  median_house_value ocean_proximity  \n",
       "0         8.3252            452600.0        NEAR BAY  \n",
       "1         8.3014            358500.0        NEAR BAY  \n",
       "2         7.2574            352100.0        NEAR BAY  \n",
       "3         5.6431            341300.0        NEAR BAY  \n",
       "4         3.8462            342200.0        NEAR BAY  "
      ]
     },
     "execution_count": 83,
     "metadata": {},
     "output_type": "execute_result"
    }
   ],
   "source": [
    "df_nb.head()"
   ]
  },
  {
   "cell_type": "code",
   "execution_count": 84,
   "id": "2bf9e48c",
   "metadata": {},
   "outputs": [],
   "source": [
    "#split\n",
    "\n",
    "target = \"median_house_value\"\n",
    "features =[ \n",
    "    \"longitude\", \n",
    "    \"latitude\", \n",
    "    \"housing_median_age\", \n",
    "    \"total_rooms\", \n",
    "    \"households\", \n",
    "    \"median_income\", \n",
    "    \"ocean_proximity\"\n",
    "]\n",
    "\n",
    "y_train = df_nb[target]\n",
    "X_train = df_nb[features]"
   ]
  },
  {
   "cell_type": "code",
   "execution_count": 90,
   "id": "c9c9d574",
   "metadata": {},
   "outputs": [
    {
     "name": "stdout",
     "output_type": "stream",
     "text": [
      "MEAN : 259212.31\n",
      "Baseline MAE : 102229.8\n"
     ]
    }
   ],
   "source": [
    "#build baseline\n",
    "\n",
    "y_mean = y_train.mean()\n",
    "y_pred_baseline = [y_mean] * len(y_train)\n",
    "baseline_MAE = mean_absolute_error(y_train, y_pred_baseline)\n",
    "print(\"MEAN :\", round(y_mean, 2))\n",
    "print(\"Baseline MAE :\", round(baseline_MAE, 2))"
   ]
  },
  {
   "cell_type": "code",
   "execution_count": 93,
   "id": "97091b99",
   "metadata": {},
   "outputs": [
    {
     "name": "stderr",
     "output_type": "stream",
     "text": [
      "C:\\Users\\NNAMDI IDOWU\\anaconda3\\lib\\site-packages\\category_encoders\\utils.py:21: FutureWarning:\n",
      "\n",
      "is_categorical is deprecated and will be removed in a future version.  Use is_categorical_dtype instead\n",
      "\n"
     ]
    },
    {
     "data": {
      "text/plain": [
       "Pipeline(steps=[('onehotencoder',\n",
       "                 OneHotEncoder(cols=['ocean_proximity'], use_cat_names=True)),\n",
       "                ('simpleimputer', SimpleImputer()), ('ridge', Ridge())])"
      ]
     },
     "execution_count": 93,
     "metadata": {},
     "output_type": "execute_result"
    }
   ],
   "source": [
    "#create model\n",
    "\n",
    "model = make_pipeline (\n",
    "    OneHotEncoder(use_cat_names=True),\n",
    "    SimpleImputer(),\n",
    "    Ridge()\n",
    ")\n",
    "\n",
    "#fit model\n",
    "\n",
    "model.fit(X_train, y_train)"
   ]
  },
  {
   "cell_type": "code",
   "execution_count": 94,
   "id": "30965571",
   "metadata": {},
   "outputs": [
    {
     "name": "stdout",
     "output_type": "stream",
     "text": [
      "Training_MAE:  57886.85\n"
     ]
    }
   ],
   "source": [
    "#Evaluate model\n",
    "\n",
    "y_pred_training = model.predict(X_train)\n",
    "print(\"Training_MAE: \", round(mean_absolute_error(y_train, y_pred_training), 2))"
   ]
  },
  {
   "cell_type": "code",
   "execution_count": null,
   "id": "8e58c9f4",
   "metadata": {},
   "outputs": [],
   "source": []
  }
 ],
 "metadata": {
  "kernelspec": {
   "display_name": "Python 3 (ipykernel)",
   "language": "python",
   "name": "python3"
  },
  "language_info": {
   "codemirror_mode": {
    "name": "ipython",
    "version": 3
   },
   "file_extension": ".py",
   "mimetype": "text/x-python",
   "name": "python",
   "nbconvert_exporter": "python",
   "pygments_lexer": "ipython3",
   "version": "3.9.7"
  }
 },
 "nbformat": 4,
 "nbformat_minor": 5
}
